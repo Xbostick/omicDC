{
  "cells": [
    {
      "cell_type": "code",
      "execution_count": null,
      "metadata": {
        "colab": {
          "base_uri": "https://localhost:8080/"
        },
        "id": "pbUKuBdhYc5t",
        "outputId": "8e33eff5-2394-4481-c043-2d1264234bac"
      },
      "outputs": [
        {
          "name": "stdout",
          "output_type": "stream",
          "text": [
            "--2023-02-15 23:15:15--  https://chip-atlas.dbcls.jp/data/hg38/allPeaks_light/allPeaks_light.hg38.05.bed.gz\n",
            "Resolving chip-atlas.dbcls.jp (chip-atlas.dbcls.jp)... 133.39.78.111\n",
            "Connecting to chip-atlas.dbcls.jp (chip-atlas.dbcls.jp)|133.39.78.111|:443... connected.\n",
            "HTTP request sent, awaiting response... 200 OK\n",
            "Length: 16822973932 (16G) [application/gzip]\n",
            "Saving to: ‘allPeaks_light.hg38.05.bed.gz’\n",
            "\n",
            "gz                    1%[                    ] 311.14M  16.5MB/s    eta 17m 10s^C\n",
            "^C\n"
          ]
        }
      ],
      "source": [
        "!wget https://chip-atlas.dbcls.jp/data/hg38/allPeaks_light/allPeaks_light.hg38.05.bed.gz\n",
        "!gzip -d /content/allPeaks_light.hg38.05.bed.gz\n",
        "!du -h /content/allPeaks_light.hg38.05.bed.gz"
      ]
    },
    {
      "cell_type": "code",
      "execution_count": 1,
      "metadata": {
        "colab": {
          "base_uri": "https://localhost:8080/"
        },
        "id": "wblCRh32GRQs",
        "outputId": "72ad37f6-949d-4fb4-f65b-f9f31c264735"
      },
      "outputs": [
        {
          "name": "stdout",
          "output_type": "stream",
          "text": [
            "--2023-02-19 12:13:47--  https://chip-atlas.dbcls.jp/data/mm9/allPeaks_light/allPeaks_light.mm9.50.bed.gz\n",
            "Resolving chip-atlas.dbcls.jp (chip-atlas.dbcls.jp)... 133.39.78.111\n",
            "Connecting to chip-atlas.dbcls.jp (chip-atlas.dbcls.jp)|133.39.78.111|:443... connected.\n",
            "HTTP request sent, awaiting response... 200 OK\n",
            "Length: 1782398891 (1.7G) [application/gzip]\n",
            "Saving to: ‘allPeaks_light.mm9.50.bed.gz’\n",
            "\n",
            "allPeaks_light.mm9. 100%[===================>]   1.66G  24.8MB/s    in 70s     \n",
            "\n",
            "2023-02-19 12:14:58 (24.2 MB/s) - ‘allPeaks_light.mm9.50.bed.gz’ saved [1782398891/1782398891]\n",
            "\n"
          ]
        }
      ],
      "source": [
        "!wget https://chip-atlas.dbcls.jp/data/mm9/allPeaks_light/allPeaks_light.mm9.50.bed.gz\n",
        "!gzip -d /content/allPeaks_light.mm9.50.bed.gz\n",
        "!du -h /content/allPeaks_light.mm9.50.bed"
      ]
    },
    {
      "cell_type": "code",
      "execution_count": 3,
      "metadata": {
        "colab": {
          "base_uri": "https://localhost:8080/"
        },
        "id": "0ZAFrMrRYj4N",
        "outputId": "8d09f9bd-c229-4547-b51e-62daba11a275"
      },
      "outputs": [
        {
          "name": "stdout",
          "output_type": "stream",
          "text": [
            "Looking in indexes: https://pypi.org/simple, https://us-python.pkg.dev/colab-wheels/public/simple/\n",
            "Requirement already satisfied: dask in /usr/local/lib/python3.8/dist-packages (2022.2.1)\n",
            "Requirement already satisfied: packaging>=20.0 in /usr/local/lib/python3.8/dist-packages (from dask) (23.0)\n",
            "Requirement already satisfied: cloudpickle>=1.1.1 in /usr/local/lib/python3.8/dist-packages (from dask) (2.2.1)\n",
            "Requirement already satisfied: partd>=0.3.10 in /usr/local/lib/python3.8/dist-packages (from dask) (1.3.0)\n",
            "Requirement already satisfied: toolz>=0.8.2 in /usr/local/lib/python3.8/dist-packages (from dask) (0.12.0)\n",
            "Requirement already satisfied: pyyaml>=5.3.1 in /usr/local/lib/python3.8/dist-packages (from dask) (6.0)\n",
            "Requirement already satisfied: fsspec>=0.6.0 in /usr/local/lib/python3.8/dist-packages (from dask) (2023.1.0)\n",
            "Requirement already satisfied: locket in /usr/local/lib/python3.8/dist-packages (from partd>=0.3.10->dask) (1.0.0)\n"
          ]
        }
      ],
      "source": [
        "!pip install dask\n"
      ]
    },
    {
      "cell_type": "code",
      "execution_count": 1,
      "metadata": {
        "id": "XuZ8Tm0UYlbq"
      },
      "outputs": [],
      "source": [
        "import pandas as pd\n",
        "import numpy as np\n",
        "import dask.dataframe as dd\n",
        "import time\n",
        "import dask\n",
        "from dask.distributed import Client\n",
        "import multiprocessing\n"
      ]
    },
    {
      "cell_type": "code",
      "execution_count": 7,
      "metadata": {
        "colab": {
          "base_uri": "https://localhost:8080/",
          "height": 206
        },
        "id": "TI1oFLJO-oxv",
        "outputId": "cb0171bf-18dd-4e24-aabe-208331957c0b"
      },
      "outputs": [],
      "source": [
        "df = dd.read_csv(\"mm9.50.bed\",\n",
        "                sep = \"\\t\", \n",
        "                names = [\"chr\", 'begin', 'end', 'id', 'score'],\n",
        "                blocksize = '100mb'\n",
        "                )\n",
        "#df.head()"
      ]
    },
    {
      "cell_type": "code",
      "execution_count": 8,
      "metadata": {},
      "outputs": [
        {
          "name": "stderr",
          "output_type": "stream",
          "text": [
            "c:\\Users\\borov\\AppData\\Local\\Programs\\Python\\Python310\\lib\\site-packages\\distributed\\node.py:182: UserWarning: Port 8787 is already in use.\n",
            "Perhaps you already have a cluster running?\n",
            "Hosting the HTTP server on port 49408 instead\n",
            "  warnings.warn(\n"
          ]
        }
      ],
      "source": [
        "NCORES = multiprocessing.cpu_count() - 8\n",
        "client = Client(n_workers=NCORES, threads_per_worker=4)"
      ]
    },
    {
      "cell_type": "code",
      "execution_count": 9,
      "metadata": {
        "colab": {
          "base_uri": "https://localhost:8080/",
          "height": 206
        },
        "id": "tgEvyFwJfFI6",
        "outputId": "d896c496-cafc-4b6b-a5f7-fc5d24154863"
      },
      "outputs": [
        {
          "data": {
            "text/html": [
              "<div>\n",
              "<style scoped>\n",
              "    .dataframe tbody tr th:only-of-type {\n",
              "        vertical-align: middle;\n",
              "    }\n",
              "\n",
              "    .dataframe tbody tr th {\n",
              "        vertical-align: top;\n",
              "    }\n",
              "\n",
              "    .dataframe thead th {\n",
              "        text-align: right;\n",
              "    }\n",
              "</style>\n",
              "<table border=\"1\" class=\"dataframe\">\n",
              "  <thead>\n",
              "    <tr style=\"text-align: right;\">\n",
              "      <th></th>\n",
              "      <th>chr</th>\n",
              "      <th>begin</th>\n",
              "      <th>end</th>\n",
              "      <th>id</th>\n",
              "      <th>score</th>\n",
              "    </tr>\n",
              "  </thead>\n",
              "  <tbody>\n",
              "    <tr>\n",
              "      <th>0</th>\n",
              "      <td>chr1</td>\n",
              "      <td>59727499</td>\n",
              "      <td>59727857</td>\n",
              "      <td>SRX9311692</td>\n",
              "      <td>1462</td>\n",
              "    </tr>\n",
              "    <tr>\n",
              "      <th>1</th>\n",
              "      <td>chr1</td>\n",
              "      <td>59727499</td>\n",
              "      <td>59727896</td>\n",
              "      <td>SRX3342576</td>\n",
              "      <td>655</td>\n",
              "    </tr>\n",
              "    <tr>\n",
              "      <th>2</th>\n",
              "      <td>chr1</td>\n",
              "      <td>59727499</td>\n",
              "      <td>59728097</td>\n",
              "      <td>SRX353803</td>\n",
              "      <td>790</td>\n",
              "    </tr>\n",
              "    <tr>\n",
              "      <th>3</th>\n",
              "      <td>chr1</td>\n",
              "      <td>59727499</td>\n",
              "      <td>59728188</td>\n",
              "      <td>SRX892577</td>\n",
              "      <td>1254</td>\n",
              "    </tr>\n",
              "    <tr>\n",
              "      <th>4</th>\n",
              "      <td>chr1</td>\n",
              "      <td>59727499</td>\n",
              "      <td>59728238</td>\n",
              "      <td>SRX8026857</td>\n",
              "      <td>1180</td>\n",
              "    </tr>\n",
              "  </tbody>\n",
              "</table>\n",
              "</div>"
            ],
            "text/plain": [
              "    chr     begin       end          id  score\n",
              "0  chr1  59727499  59727857  SRX9311692   1462\n",
              "1  chr1  59727499  59727896  SRX3342576    655\n",
              "2  chr1  59727499  59728097   SRX353803    790\n",
              "3  chr1  59727499  59728188   SRX892577   1254\n",
              "4  chr1  59727499  59728238  SRX8026857   1180"
            ]
          },
          "execution_count": 9,
          "metadata": {},
          "output_type": "execute_result"
        }
      ],
      "source": [
        "part = df.partitions[1]\n",
        "part.head()"
      ]
    },
    {
      "cell_type": "code",
      "execution_count": 10,
      "metadata": {
        "id": "qqE6fSeCeay9"
      },
      "outputs": [],
      "source": [
        "def compute_part(num):\n",
        "  part = df.partitions[num]\n",
        "  part = part.loc[part.id == \"SRX8026866\"]\n",
        "  part = part.compute()\n",
        "  part.to_csv(\"BIGKEK.csv\",mode = 'a')\n",
        "  return num"
      ]
    },
    {
      "cell_type": "code",
      "execution_count": 11,
      "metadata": {
        "id": "pcpb8JjifvDk"
      },
      "outputs": [],
      "source": [
        "open(\"BIGKEK.csv\", mode = 'w').close()\n",
        "k = client.map(compute_part,range(df.npartitions))   "
      ]
    },
    {
      "cell_type": "code",
      "execution_count": 12,
      "metadata": {
        "colab": {
          "base_uri": "https://localhost:8080/",
          "height": 311
        },
        "id": "7Ik-0sWogcmS",
        "outputId": "e68d497f-6d6c-4171-c867-4c7e09a2631c"
      },
      "outputs": [
        {
          "data": {
            "text/plain": [
              "[0,\n",
              " 1,\n",
              " 2,\n",
              " 3,\n",
              " 4,\n",
              " 5,\n",
              " 6,\n",
              " 7,\n",
              " 8,\n",
              " 9,\n",
              " 10,\n",
              " 11,\n",
              " 12,\n",
              " 13,\n",
              " 14,\n",
              " 15,\n",
              " 16,\n",
              " 17,\n",
              " 18,\n",
              " 19,\n",
              " 20,\n",
              " 21,\n",
              " 22,\n",
              " 23,\n",
              " 24,\n",
              " 25,\n",
              " 26,\n",
              " 27,\n",
              " 28,\n",
              " 29,\n",
              " 30,\n",
              " 31,\n",
              " 32,\n",
              " 33,\n",
              " 34,\n",
              " 35,\n",
              " 36,\n",
              " 37,\n",
              " 38,\n",
              " 39,\n",
              " 40,\n",
              " 41,\n",
              " 42,\n",
              " 43,\n",
              " 44,\n",
              " 45,\n",
              " 46,\n",
              " 47,\n",
              " 48,\n",
              " 49,\n",
              " 50,\n",
              " 51,\n",
              " 52,\n",
              " 53,\n",
              " 54,\n",
              " 55,\n",
              " 56,\n",
              " 57,\n",
              " 58,\n",
              " 59,\n",
              " 60,\n",
              " 61,\n",
              " 62,\n",
              " 63,\n",
              " 64,\n",
              " 65,\n",
              " 66,\n",
              " 67,\n",
              " 68]"
            ]
          },
          "execution_count": 12,
          "metadata": {},
          "output_type": "execute_result"
        }
      ],
      "source": [
        "[future.result() for future in k]"
      ]
    }
  ],
  "metadata": {
    "colab": {
      "provenance": []
    },
    "gpuClass": "standard",
    "kernelspec": {
      "display_name": "Python310",
      "language": "python",
      "name": "python3"
    },
    "language_info": {
      "codemirror_mode": {
        "name": "ipython",
        "version": 3
      },
      "file_extension": ".py",
      "mimetype": "text/x-python",
      "name": "python",
      "nbconvert_exporter": "python",
      "pygments_lexer": "ipython3",
      "version": "3.10.6"
    },
    "vscode": {
      "interpreter": {
        "hash": "23d953d064220bdf6eae5efe0f03319c98b55be67655aec67bf8145d617bf914"
      }
    }
  },
  "nbformat": 4,
  "nbformat_minor": 0
}
