{
 "cells": [
  {
   "cell_type": "code",
   "execution_count": 1,
   "id": "36539a46",
   "metadata": {},
   "outputs": [],
   "source": [
    "import pandas as pd\n",
    "import numpy as np\n",
    "import dask.dataframe as dd\n",
    "import time\n",
    "import dask\n",
    "from dask.distributed import Client\n",
    "import multiprocessing"
   ]
  },
  {
   "cell_type": "code",
   "execution_count": 2,
   "id": "cfcaeb42",
   "metadata": {},
   "outputs": [
    {
     "name": "stdout",
     "output_type": "stream",
     "text": [
      "--2023-03-01 22:04:15--  https://chip-atlas.dbcls.jp/data/metadata/experimentList.tab\n",
      "Loaded CA certificate '/etc/ssl/certs/ca-certificates.crt'\n",
      "Resolving chip-atlas.dbcls.jp (chip-atlas.dbcls.jp)... 133.39.78.111\n",
      "Connecting to chip-atlas.dbcls.jp (chip-atlas.dbcls.jp)|133.39.78.111|:443... connected.\n",
      "HTTP request sent, awaiting response... 200 OK\n",
      "Length: 278349819 (265M) [application/octet-stream]\n",
      "Saving to: ‘experimentList.tab’\n",
      "\n",
      "experimentList.tab  100%[===================>] 265.45M   484KB/s    in 5m 44s  \n",
      "\n",
      "2023-03-01 22:10:00 (790 KB/s) - ‘experimentList.tab’ saved [278349819/278349819]\n",
      "\n"
     ]
    }
   ],
   "source": [
    "!wget https://chip-atlas.dbcls.jp/data/metadata/experimentList.tab"
   ]
  },
  {
   "cell_type": "code",
   "execution_count": 41,
   "id": "2ca4dfa1",
   "metadata": {},
   "outputs": [
    {
     "data": {
      "text/html": [
       "<div>\n",
       "<style scoped>\n",
       "    .dataframe tbody tr th:only-of-type {\n",
       "        vertical-align: middle;\n",
       "    }\n",
       "\n",
       "    .dataframe tbody tr th {\n",
       "        vertical-align: top;\n",
       "    }\n",
       "\n",
       "    .dataframe thead th {\n",
       "        text-align: right;\n",
       "    }\n",
       "</style>\n",
       "<table border=\"1\" class=\"dataframe\">\n",
       "  <thead>\n",
       "    <tr style=\"text-align: right;\">\n",
       "      <th></th>\n",
       "      <th>0</th>\n",
       "      <th>1</th>\n",
       "      <th>2</th>\n",
       "      <th>3</th>\n",
       "      <th>4</th>\n",
       "      <th>5</th>\n",
       "    </tr>\n",
       "  </thead>\n",
       "  <tbody>\n",
       "    <tr>\n",
       "      <th>0</th>\n",
       "      <td>DRX184547</td>\n",
       "      <td>ce10</td>\n",
       "      <td>Input control</td>\n",
       "      <td>Input control</td>\n",
       "      <td>Larvae</td>\n",
       "      <td>L1</td>\n",
       "    </tr>\n",
       "    <tr>\n",
       "      <th>1</th>\n",
       "      <td>DRX184548</td>\n",
       "      <td>ce10</td>\n",
       "      <td>Histone</td>\n",
       "      <td>H3K4me2</td>\n",
       "      <td>Larvae</td>\n",
       "      <td>L1</td>\n",
       "    </tr>\n",
       "    <tr>\n",
       "      <th>2</th>\n",
       "      <td>DRX184549</td>\n",
       "      <td>ce10</td>\n",
       "      <td>Histone</td>\n",
       "      <td>H3K27me3</td>\n",
       "      <td>Larvae</td>\n",
       "      <td>L1</td>\n",
       "    </tr>\n",
       "    <tr>\n",
       "      <th>3</th>\n",
       "      <td>DRX184550</td>\n",
       "      <td>ce10</td>\n",
       "      <td>Histone</td>\n",
       "      <td>H3K36me3</td>\n",
       "      <td>Larvae</td>\n",
       "      <td>L1</td>\n",
       "    </tr>\n",
       "    <tr>\n",
       "      <th>4</th>\n",
       "      <td>DRX184551</td>\n",
       "      <td>ce10</td>\n",
       "      <td>Input control</td>\n",
       "      <td>Input control</td>\n",
       "      <td>Larvae</td>\n",
       "      <td>L1</td>\n",
       "    </tr>\n",
       "    <tr>\n",
       "      <th>...</th>\n",
       "      <td>...</td>\n",
       "      <td>...</td>\n",
       "      <td>...</td>\n",
       "      <td>...</td>\n",
       "      <td>...</td>\n",
       "      <td>...</td>\n",
       "    </tr>\n",
       "    <tr>\n",
       "      <th>675552</th>\n",
       "      <td>SRX957114</td>\n",
       "      <td>sacCer3</td>\n",
       "      <td>Bisulfite-Seq</td>\n",
       "      <td>Bisulfite-Seq</td>\n",
       "      <td>Yeast strain</td>\n",
       "      <td>BY4741</td>\n",
       "    </tr>\n",
       "    <tr>\n",
       "      <th>675553</th>\n",
       "      <td>SRX957115</td>\n",
       "      <td>sacCer3</td>\n",
       "      <td>Bisulfite-Seq</td>\n",
       "      <td>Bisulfite-Seq</td>\n",
       "      <td>Yeast strain</td>\n",
       "      <td>BY4741</td>\n",
       "    </tr>\n",
       "    <tr>\n",
       "      <th>675554</th>\n",
       "      <td>SRX957117</td>\n",
       "      <td>sacCer3</td>\n",
       "      <td>Bisulfite-Seq</td>\n",
       "      <td>Bisulfite-Seq</td>\n",
       "      <td>Yeast strain</td>\n",
       "      <td>BY4741</td>\n",
       "    </tr>\n",
       "    <tr>\n",
       "      <th>675555</th>\n",
       "      <td>SRX957118</td>\n",
       "      <td>sacCer3</td>\n",
       "      <td>Bisulfite-Seq</td>\n",
       "      <td>Bisulfite-Seq</td>\n",
       "      <td>Yeast strain</td>\n",
       "      <td>W303</td>\n",
       "    </tr>\n",
       "    <tr>\n",
       "      <th>675556</th>\n",
       "      <td>SRX957119</td>\n",
       "      <td>sacCer3</td>\n",
       "      <td>Bisulfite-Seq</td>\n",
       "      <td>Bisulfite-Seq</td>\n",
       "      <td>Yeast strain</td>\n",
       "      <td>W303</td>\n",
       "    </tr>\n",
       "  </tbody>\n",
       "</table>\n",
       "<p>675557 rows × 6 columns</p>\n",
       "</div>"
      ],
      "text/plain": [
       "                0        1              2              3             4       5\n",
       "0       DRX184547     ce10  Input control  Input control        Larvae      L1\n",
       "1       DRX184548     ce10        Histone        H3K4me2        Larvae      L1\n",
       "2       DRX184549     ce10        Histone       H3K27me3        Larvae      L1\n",
       "3       DRX184550     ce10        Histone       H3K36me3        Larvae      L1\n",
       "4       DRX184551     ce10  Input control  Input control        Larvae      L1\n",
       "...           ...      ...            ...            ...           ...     ...\n",
       "675552  SRX957114  sacCer3  Bisulfite-Seq  Bisulfite-Seq  Yeast strain  BY4741\n",
       "675553  SRX957115  sacCer3  Bisulfite-Seq  Bisulfite-Seq  Yeast strain  BY4741\n",
       "675554  SRX957117  sacCer3  Bisulfite-Seq  Bisulfite-Seq  Yeast strain  BY4741\n",
       "675555  SRX957118  sacCer3  Bisulfite-Seq  Bisulfite-Seq  Yeast strain    W303\n",
       "675556  SRX957119  sacCer3  Bisulfite-Seq  Bisulfite-Seq  Yeast strain    W303\n",
       "\n",
       "[675557 rows x 6 columns]"
      ]
     },
     "execution_count": 41,
     "metadata": {},
     "output_type": "execute_result"
    }
   ],
   "source": [
    "df_tmp = pd.read_csv('experimentList.tab', sep='\\t', lineterminator='\\n', usecols=range(6), header=None)\n",
    "df_tmp"
   ]
  },
  {
   "cell_type": "code",
   "execution_count": 42,
   "id": "ab17a169",
   "metadata": {},
   "outputs": [],
   "source": [
    "df_tmp.to_csv('exp_edited.tab', header=False, index=False)"
   ]
  },
  {
   "cell_type": "code",
   "execution_count": null,
   "id": "37e41c8c",
   "metadata": {},
   "outputs": [],
   "source": []
  },
  {
   "cell_type": "code",
   "execution_count": null,
   "id": "977003c2",
   "metadata": {},
   "outputs": [],
   "source": []
  },
  {
   "cell_type": "code",
   "execution_count": 2,
   "id": "512bbde6",
   "metadata": {},
   "outputs": [],
   "source": [
    "df = dd.read_csv('exp_edited.tab',\n",
    "                sep = ',', \n",
    "                names = ['id', 'Genome assembly', 'Antigen class', 'Antigen', 'Cell type class', 'Cell type'],\n",
    "                blocksize = '10mb'\n",
    "                )"
   ]
  },
  {
   "cell_type": "code",
   "execution_count": 3,
   "id": "206dad09",
   "metadata": {},
   "outputs": [],
   "source": [
    "# NCORES = multiprocessing.cpu_count() - 8\n",
    "NCORES = 2\n",
    "client = Client(n_workers=NCORES, threads_per_worker=2)"
   ]
  },
  {
   "cell_type": "code",
   "execution_count": 4,
   "id": "81e147e2",
   "metadata": {},
   "outputs": [
    {
     "data": {
      "text/html": [
       "<div>\n",
       "<style scoped>\n",
       "    .dataframe tbody tr th:only-of-type {\n",
       "        vertical-align: middle;\n",
       "    }\n",
       "\n",
       "    .dataframe tbody tr th {\n",
       "        vertical-align: top;\n",
       "    }\n",
       "\n",
       "    .dataframe thead th {\n",
       "        text-align: right;\n",
       "    }\n",
       "</style>\n",
       "<table border=\"1\" class=\"dataframe\">\n",
       "  <thead>\n",
       "    <tr style=\"text-align: right;\">\n",
       "      <th></th>\n",
       "      <th>id</th>\n",
       "      <th>Genome assembly</th>\n",
       "      <th>Antigen class</th>\n",
       "      <th>Antigen</th>\n",
       "      <th>Cell type class</th>\n",
       "      <th>Cell type</th>\n",
       "    </tr>\n",
       "  </thead>\n",
       "  <tbody>\n",
       "    <tr>\n",
       "      <th>0</th>\n",
       "      <td>DRX184547</td>\n",
       "      <td>ce10</td>\n",
       "      <td>Input control</td>\n",
       "      <td>Input control</td>\n",
       "      <td>Larvae</td>\n",
       "      <td>L1</td>\n",
       "    </tr>\n",
       "    <tr>\n",
       "      <th>1</th>\n",
       "      <td>DRX184548</td>\n",
       "      <td>ce10</td>\n",
       "      <td>Histone</td>\n",
       "      <td>H3K4me2</td>\n",
       "      <td>Larvae</td>\n",
       "      <td>L1</td>\n",
       "    </tr>\n",
       "    <tr>\n",
       "      <th>2</th>\n",
       "      <td>DRX184549</td>\n",
       "      <td>ce10</td>\n",
       "      <td>Histone</td>\n",
       "      <td>H3K27me3</td>\n",
       "      <td>Larvae</td>\n",
       "      <td>L1</td>\n",
       "    </tr>\n",
       "    <tr>\n",
       "      <th>3</th>\n",
       "      <td>DRX184550</td>\n",
       "      <td>ce10</td>\n",
       "      <td>Histone</td>\n",
       "      <td>H3K36me3</td>\n",
       "      <td>Larvae</td>\n",
       "      <td>L1</td>\n",
       "    </tr>\n",
       "    <tr>\n",
       "      <th>4</th>\n",
       "      <td>DRX184551</td>\n",
       "      <td>ce10</td>\n",
       "      <td>Input control</td>\n",
       "      <td>Input control</td>\n",
       "      <td>Larvae</td>\n",
       "      <td>L1</td>\n",
       "    </tr>\n",
       "  </tbody>\n",
       "</table>\n",
       "</div>"
      ],
      "text/plain": [
       "          id Genome assembly  Antigen class        Antigen Cell type class  \\\n",
       "0  DRX184547            ce10  Input control  Input control          Larvae   \n",
       "1  DRX184548            ce10        Histone        H3K4me2          Larvae   \n",
       "2  DRX184549            ce10        Histone       H3K27me3          Larvae   \n",
       "3  DRX184550            ce10        Histone       H3K36me3          Larvae   \n",
       "4  DRX184551            ce10  Input control  Input control          Larvae   \n",
       "\n",
       "  Cell type  \n",
       "0        L1  \n",
       "1        L1  \n",
       "2        L1  \n",
       "3        L1  \n",
       "4        L1  "
      ]
     },
     "execution_count": 4,
     "metadata": {},
     "output_type": "execute_result"
    }
   ],
   "source": [
    "part = df.partitions[0]\n",
    "part.head()"
   ]
  },
  {
   "cell_type": "code",
   "execution_count": 11,
   "id": "c30dd1f2",
   "metadata": {},
   "outputs": [
    {
     "data": {
      "text/plain": [
       "231874"
      ]
     },
     "execution_count": 11,
     "metadata": {},
     "output_type": "execute_result"
    }
   ],
   "source": [
    "len(part)"
   ]
  },
  {
   "cell_type": "code",
   "execution_count": null,
   "id": "8db1bf2a",
   "metadata": {},
   "outputs": [],
   "source": []
  },
  {
   "cell_type": "code",
   "execution_count": 89,
   "id": "a036ee24",
   "metadata": {},
   "outputs": [],
   "source": [
    "def compute_part(num, options):\n",
    "    part = df.partitions[num]\n",
    "    \n",
    "    if options[0] != '':\n",
    "        tmp = options[0].split(',')\n",
    "        part = part.loc[part['id'].isin(tmp)]\n",
    "    if options[1] != '':\n",
    "        tmp = options[1].split(',')\n",
    "        part = part.loc[part['Genome assembly'].isin(tmp)]\n",
    "    if options[2] != '':\n",
    "        tmp = options[2].split(',')\n",
    "        part = part.loc[part['Antigen class'].isin(tmp)]\n",
    "    if options[3] != '':\n",
    "        tmp = options[3].split(',')\n",
    "        part = part.loc[part['Antigen'].isin(tmp)]\n",
    "    if options[4] != '':\n",
    "        tmp = options[4].split(',')\n",
    "        part = part.loc[part['Cell type class'].isin(tmp)]\n",
    "    if options[5] != '':\n",
    "        tmp = options[5].split(',')\n",
    "        part = part.loc[part['Cell type'].isin(tmp)]\n",
    "    \n",
    "    part = part.compute()\n",
    "    part.to_csv(\"BIGKEK.csv\", mode='a', header=False, index=False)\n",
    "    return tmp"
   ]
  },
  {
   "cell_type": "code",
   "execution_count": 90,
   "id": "7cc46137",
   "metadata": {},
   "outputs": [],
   "source": [
    "open(\"BIGKEK.csv\", mode = 'w').close()\n",
    "k = client.map(compute_part, range(df.npartitions), [['', '', '', '', 'Breast,Kidney', '']] * df.npartitions)"
   ]
  },
  {
   "cell_type": "code",
   "execution_count": 91,
   "id": "cb9278bc",
   "metadata": {},
   "outputs": [
    {
     "data": {
      "text/plain": [
       "[['Breast', 'Kidney'], ['Breast', 'Kidney'], ['Breast', 'Kidney']]"
      ]
     },
     "execution_count": 91,
     "metadata": {},
     "output_type": "execute_result"
    }
   ],
   "source": [
    "[future.result() for future in k]"
   ]
  },
  {
   "cell_type": "code",
   "execution_count": null,
   "id": "fbcfb4fe",
   "metadata": {},
   "outputs": [],
   "source": []
  }
 ],
 "metadata": {
  "kernelspec": {
   "display_name": "Python 3 (ipykernel)",
   "language": "python",
   "name": "python3"
  },
  "language_info": {
   "codemirror_mode": {
    "name": "ipython",
    "version": 3
   },
   "file_extension": ".py",
   "mimetype": "text/x-python",
   "name": "python",
   "nbconvert_exporter": "python",
   "pygments_lexer": "ipython3",
   "version": "3.11.0"
  }
 },
 "nbformat": 4,
 "nbformat_minor": 5
}
