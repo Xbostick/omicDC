{
 "cells": [
  {
   "cell_type": "code",
   "execution_count": 7,
   "id": "36539a46",
   "metadata": {},
   "outputs": [],
   "source": [
    "import pandas as pd\n",
    "import numpy as np\n",
    "import dask.dataframe as dd\n",
    "import time\n",
    "import dask\n",
    "from dask.distributed import Client\n",
    "import multiprocessing"
   ]
  },
  {
   "cell_type": "code",
   "execution_count": 2,
   "id": "cfcaeb42",
   "metadata": {},
   "outputs": [
    {
     "name": "stdout",
     "output_type": "stream",
     "text": [
      "--2023-03-01 22:04:15--  https://chip-atlas.dbcls.jp/data/metadata/experimentList.tab\n",
      "Loaded CA certificate '/etc/ssl/certs/ca-certificates.crt'\n",
      "Resolving chip-atlas.dbcls.jp (chip-atlas.dbcls.jp)... 133.39.78.111\n",
      "Connecting to chip-atlas.dbcls.jp (chip-atlas.dbcls.jp)|133.39.78.111|:443... connected.\n",
      "HTTP request sent, awaiting response... 200 OK\n",
      "Length: 278349819 (265M) [application/octet-stream]\n",
      "Saving to: ‘experimentList.tab’\n",
      "\n",
      "experimentList.tab  100%[===================>] 265.45M   484KB/s    in 5m 44s  \n",
      "\n",
      "2023-03-01 22:10:00 (790 KB/s) - ‘experimentList.tab’ saved [278349819/278349819]\n",
      "\n"
     ]
    }
   ],
   "source": [
    "!wget https://chip-atlas.dbcls.jp/data/metadata/experimentList.tab"
   ]
  },
  {
   "cell_type": "code",
   "execution_count": 8,
   "id": "2ca4dfa1",
   "metadata": {},
   "outputs": [
    {
     "data": {
      "text/html": [
       "<div>\n",
       "<style scoped>\n",
       "    .dataframe tbody tr th:only-of-type {\n",
       "        vertical-align: middle;\n",
       "    }\n",
       "\n",
       "    .dataframe tbody tr th {\n",
       "        vertical-align: top;\n",
       "    }\n",
       "\n",
       "    .dataframe thead th {\n",
       "        text-align: right;\n",
       "    }\n",
       "</style>\n",
       "<table border=\"1\" class=\"dataframe\">\n",
       "  <thead>\n",
       "    <tr style=\"text-align: right;\">\n",
       "      <th></th>\n",
       "      <th>0</th>\n",
       "      <th>1</th>\n",
       "      <th>2</th>\n",
       "      <th>3</th>\n",
       "      <th>4</th>\n",
       "      <th>5</th>\n",
       "    </tr>\n",
       "  </thead>\n",
       "  <tbody>\n",
       "    <tr>\n",
       "      <th>0</th>\n",
       "      <td>DRX184547</td>\n",
       "      <td>ce10</td>\n",
       "      <td>Input control</td>\n",
       "      <td>Input control</td>\n",
       "      <td>Larvae</td>\n",
       "      <td>L1</td>\n",
       "    </tr>\n",
       "    <tr>\n",
       "      <th>1</th>\n",
       "      <td>DRX184548</td>\n",
       "      <td>ce10</td>\n",
       "      <td>Histone</td>\n",
       "      <td>H3K4me2</td>\n",
       "      <td>Larvae</td>\n",
       "      <td>L1</td>\n",
       "    </tr>\n",
       "    <tr>\n",
       "      <th>2</th>\n",
       "      <td>DRX184549</td>\n",
       "      <td>ce10</td>\n",
       "      <td>Histone</td>\n",
       "      <td>H3K27me3</td>\n",
       "      <td>Larvae</td>\n",
       "      <td>L1</td>\n",
       "    </tr>\n",
       "    <tr>\n",
       "      <th>3</th>\n",
       "      <td>DRX184550</td>\n",
       "      <td>ce10</td>\n",
       "      <td>Histone</td>\n",
       "      <td>H3K36me3</td>\n",
       "      <td>Larvae</td>\n",
       "      <td>L1</td>\n",
       "    </tr>\n",
       "    <tr>\n",
       "      <th>4</th>\n",
       "      <td>DRX184551</td>\n",
       "      <td>ce10</td>\n",
       "      <td>Input control</td>\n",
       "      <td>Input control</td>\n",
       "      <td>Larvae</td>\n",
       "      <td>L1</td>\n",
       "    </tr>\n",
       "    <tr>\n",
       "      <th>...</th>\n",
       "      <td>...</td>\n",
       "      <td>...</td>\n",
       "      <td>...</td>\n",
       "      <td>...</td>\n",
       "      <td>...</td>\n",
       "      <td>...</td>\n",
       "    </tr>\n",
       "    <tr>\n",
       "      <th>62</th>\n",
       "      <td>SRX005631</td>\n",
       "      <td>ce10</td>\n",
       "      <td>TFs and others</td>\n",
       "      <td>daf-16</td>\n",
       "      <td>Adult</td>\n",
       "      <td>Young adult</td>\n",
       "    </tr>\n",
       "    <tr>\n",
       "      <th>63</th>\n",
       "      <td>SRX005632</td>\n",
       "      <td>ce10</td>\n",
       "      <td>RNA polymerase</td>\n",
       "      <td>RNA polymerase II</td>\n",
       "      <td>Adult</td>\n",
       "      <td>Young adult</td>\n",
       "    </tr>\n",
       "    <tr>\n",
       "      <th>64</th>\n",
       "      <td>SRX005633</td>\n",
       "      <td>ce10</td>\n",
       "      <td>Input control</td>\n",
       "      <td>Input control</td>\n",
       "      <td>Adult</td>\n",
       "      <td>Young adult</td>\n",
       "    </tr>\n",
       "    <tr>\n",
       "      <th>65</th>\n",
       "      <td>SRX005634</td>\n",
       "      <td>ce10</td>\n",
       "      <td>TFs and others</td>\n",
       "      <td>daf-16</td>\n",
       "      <td>Adult</td>\n",
       "      <td>Young adult</td>\n",
       "    </tr>\n",
       "    <tr>\n",
       "      <th>66</th>\n",
       "      <td>SRX005635</td>\n",
       "      <td>ce10</td>\n",
       "      <td>RNA polymerase</td>\n",
       "      <td>RNA polymerase II</td>\n",
       "      <td>Adult</td>\n",
       "      <td>Young adult</td>\n",
       "    </tr>\n",
       "  </tbody>\n",
       "</table>\n",
       "<p>67 rows × 6 columns</p>\n",
       "</div>"
      ],
      "text/plain": [
       "            0     1               2                  3       4            5\n",
       "0   DRX184547  ce10   Input control      Input control  Larvae           L1\n",
       "1   DRX184548  ce10         Histone            H3K4me2  Larvae           L1\n",
       "2   DRX184549  ce10         Histone           H3K27me3  Larvae           L1\n",
       "3   DRX184550  ce10         Histone           H3K36me3  Larvae           L1\n",
       "4   DRX184551  ce10   Input control      Input control  Larvae           L1\n",
       "..        ...   ...             ...                ...     ...          ...\n",
       "62  SRX005631  ce10  TFs and others             daf-16   Adult  Young adult\n",
       "63  SRX005632  ce10  RNA polymerase  RNA polymerase II   Adult  Young adult\n",
       "64  SRX005633  ce10   Input control      Input control   Adult  Young adult\n",
       "65  SRX005634  ce10  TFs and others             daf-16   Adult  Young adult\n",
       "66  SRX005635  ce10  RNA polymerase  RNA polymerase II   Adult  Young adult\n",
       "\n",
       "[67 rows x 6 columns]"
      ]
     },
     "execution_count": 8,
     "metadata": {},
     "output_type": "execute_result"
    }
   ],
   "source": [
    "df_tmp = pd.read_csv('part.txt', sep='\\t', lineterminator='\\n', usecols=range(6), header=None)\n",
    "df_tmp"
   ]
  },
  {
   "cell_type": "code",
   "execution_count": 9,
   "id": "ab17a169",
   "metadata": {},
   "outputs": [],
   "source": [
    "df_tmp.to_csv('exp_edited.tab', header=False, index=False)"
   ]
  },
  {
   "cell_type": "code",
   "execution_count": null,
   "id": "37e41c8c",
   "metadata": {},
   "outputs": [],
   "source": []
  },
  {
   "cell_type": "code",
   "execution_count": null,
   "id": "977003c2",
   "metadata": {},
   "outputs": [],
   "source": []
  },
  {
   "cell_type": "code",
   "execution_count": 10,
   "id": "512bbde6",
   "metadata": {},
   "outputs": [],
   "source": [
    "df = dd.read_csv('exp_edited.tab',\n",
    "                sep = ',', \n",
    "                names = ['id', 'Genome assembly', 'Antigen class', 'Antigen', 'Cell type class', 'Cell type'],\n",
    "                blocksize = '10mb'\n",
    "                )"
   ]
  },
  {
   "cell_type": "code",
   "execution_count": 11,
   "id": "206dad09",
   "metadata": {},
   "outputs": [],
   "source": [
    "# NCORES = multiprocessing.cpu_count() - 8\n",
    "NCORES = 2\n",
    "client = Client(n_workers=NCORES, threads_per_worker=2)"
   ]
  },
  {
   "cell_type": "code",
   "execution_count": 4,
   "id": "81e147e2",
   "metadata": {},
   "outputs": [
    {
     "data": {
      "text/html": [
       "<div>\n",
       "<style scoped>\n",
       "    .dataframe tbody tr th:only-of-type {\n",
       "        vertical-align: middle;\n",
       "    }\n",
       "\n",
       "    .dataframe tbody tr th {\n",
       "        vertical-align: top;\n",
       "    }\n",
       "\n",
       "    .dataframe thead th {\n",
       "        text-align: right;\n",
       "    }\n",
       "</style>\n",
       "<table border=\"1\" class=\"dataframe\">\n",
       "  <thead>\n",
       "    <tr style=\"text-align: right;\">\n",
       "      <th></th>\n",
       "      <th>id</th>\n",
       "      <th>Genome assembly</th>\n",
       "      <th>Antigen class</th>\n",
       "      <th>Antigen</th>\n",
       "      <th>Cell type class</th>\n",
       "      <th>Cell type</th>\n",
       "    </tr>\n",
       "  </thead>\n",
       "  <tbody>\n",
       "    <tr>\n",
       "      <th>0</th>\n",
       "      <td>DRX184547</td>\n",
       "      <td>ce10</td>\n",
       "      <td>Input control</td>\n",
       "      <td>Input control</td>\n",
       "      <td>Larvae</td>\n",
       "      <td>L1</td>\n",
       "    </tr>\n",
       "    <tr>\n",
       "      <th>1</th>\n",
       "      <td>DRX184548</td>\n",
       "      <td>ce10</td>\n",
       "      <td>Histone</td>\n",
       "      <td>H3K4me2</td>\n",
       "      <td>Larvae</td>\n",
       "      <td>L1</td>\n",
       "    </tr>\n",
       "    <tr>\n",
       "      <th>2</th>\n",
       "      <td>DRX184549</td>\n",
       "      <td>ce10</td>\n",
       "      <td>Histone</td>\n",
       "      <td>H3K27me3</td>\n",
       "      <td>Larvae</td>\n",
       "      <td>L1</td>\n",
       "    </tr>\n",
       "    <tr>\n",
       "      <th>3</th>\n",
       "      <td>DRX184550</td>\n",
       "      <td>ce10</td>\n",
       "      <td>Histone</td>\n",
       "      <td>H3K36me3</td>\n",
       "      <td>Larvae</td>\n",
       "      <td>L1</td>\n",
       "    </tr>\n",
       "    <tr>\n",
       "      <th>4</th>\n",
       "      <td>DRX184551</td>\n",
       "      <td>ce10</td>\n",
       "      <td>Input control</td>\n",
       "      <td>Input control</td>\n",
       "      <td>Larvae</td>\n",
       "      <td>L1</td>\n",
       "    </tr>\n",
       "  </tbody>\n",
       "</table>\n",
       "</div>"
      ],
      "text/plain": [
       "          id Genome assembly  Antigen class        Antigen Cell type class  \\\n",
       "0  DRX184547            ce10  Input control  Input control          Larvae   \n",
       "1  DRX184548            ce10        Histone        H3K4me2          Larvae   \n",
       "2  DRX184549            ce10        Histone       H3K27me3          Larvae   \n",
       "3  DRX184550            ce10        Histone       H3K36me3          Larvae   \n",
       "4  DRX184551            ce10  Input control  Input control          Larvae   \n",
       "\n",
       "  Cell type  \n",
       "0        L1  \n",
       "1        L1  \n",
       "2        L1  \n",
       "3        L1  \n",
       "4        L1  "
      ]
     },
     "execution_count": 4,
     "metadata": {},
     "output_type": "execute_result"
    }
   ],
   "source": [
    "part = df.partitions[0]\n",
    "part.head()"
   ]
  },
  {
   "cell_type": "code",
   "execution_count": 11,
   "id": "c30dd1f2",
   "metadata": {},
   "outputs": [
    {
     "data": {
      "text/plain": [
       "231874"
      ]
     },
     "execution_count": 11,
     "metadata": {},
     "output_type": "execute_result"
    }
   ],
   "source": [
    "len(part)"
   ]
  },
  {
   "cell_type": "code",
   "execution_count": null,
   "id": "8db1bf2a",
   "metadata": {},
   "outputs": [],
   "source": []
  },
  {
   "cell_type": "code",
   "execution_count": 49,
   "id": "a036ee24",
   "metadata": {},
   "outputs": [],
   "source": [
    "def compute_part(num, options):\n",
    "    # num - chunk number\n",
    "    # options - list of arguments\n",
    "    \n",
    "    part = df.partitions[num]\n",
    "    \n",
    "    if options[0] != '':\n",
    "        tmp = options[0].split(',')\n",
    "        part = part.loc[part['id'].isin(tmp)]\n",
    "    if options[1] != '':\n",
    "        tmp = options[1].split(',')\n",
    "        part = part.loc[part['Genome assembly'].isin(tmp)]\n",
    "    if options[2] != '':\n",
    "        tmp = options[2].split(',')\n",
    "        part = part.loc[part['Antigen class'].isin(tmp)]\n",
    "    if options[3] != '':\n",
    "        tmp = options[3].split(',')\n",
    "        part = part.loc[part['Antigen'].isin(tmp)]\n",
    "    if options[4] != '':\n",
    "        tmp = options[4].split(',')\n",
    "        part = part.loc[part['Cell type class'].isin(tmp)]\n",
    "    if options[5] != '':\n",
    "        tmp = options[5].split(',')\n",
    "        part = part.loc[part['Cell type'].isin(tmp)]\n",
    "    \n",
    "    part = part.compute()\n",
    "    return list(part.id)"
   ]
  },
  {
   "cell_type": "code",
   "execution_count": 50,
   "id": "7cc46137",
   "metadata": {},
   "outputs": [],
   "source": [
    "open(\"BIGKEK.csv\", mode = 'w').close()\n",
    "k = client.map(compute_part, range(df.npartitions), [['', '', 'Histone', '', '', '']] * df.npartitions)"
   ]
  },
  {
   "cell_type": "code",
   "execution_count": 15,
   "id": "06c38b2f",
   "metadata": {},
   "outputs": [
    {
     "data": {
      "text/plain": [
       "[<Future: finished, type: pandas.core.frame.DataFrame, key: compute_part-ea0e18c7b649ddbf474cba87f9accb57>]"
      ]
     },
     "execution_count": 15,
     "metadata": {},
     "output_type": "execute_result"
    }
   ],
   "source": [
    "k"
   ]
  },
  {
   "cell_type": "code",
   "execution_count": 3,
   "id": "e99abf14",
   "metadata": {},
   "outputs": [],
   "source": [
    "a = {\"dic\":10}\n",
    "b = [1,2,3]"
   ]
  },
  {
   "cell_type": "code",
   "execution_count": 70,
   "id": "cb9278bc",
   "metadata": {},
   "outputs": [
    {
     "data": {
      "text/plain": [
       "['DRX184548', 'DRX184549', 'DRX184550', 'DRX184552', 'DRX184553', 'DRX184554']"
      ]
     },
     "execution_count": 70,
     "metadata": {},
     "output_type": "execute_result"
    }
   ],
   "source": [
    "a = list()\n",
    "for future in k:\n",
    "    a.extend(future.result())\n",
    "a"
   ]
  },
  {
   "cell_type": "code",
   "execution_count": 39,
   "id": "fbcfb4fe",
   "metadata": {},
   "outputs": [],
   "source": [
    "a = list(a[0])"
   ]
  },
  {
   "cell_type": "code",
   "execution_count": 65,
   "id": "630b55af",
   "metadata": {},
   "outputs": [],
   "source": [
    "a = list()"
   ]
  }
 ],
 "metadata": {
  "kernelspec": {
   "display_name": "Python 3 (ipykernel)",
   "language": "python",
   "name": "python3"
  },
  "language_info": {
   "codemirror_mode": {
    "name": "ipython",
    "version": 3
   },
   "file_extension": ".py",
   "mimetype": "text/x-python",
   "name": "python",
   "nbconvert_exporter": "python",
   "pygments_lexer": "ipython3",
   "version": "3.10.6"
  }
 },
 "nbformat": 4,
 "nbformat_minor": 5
}
